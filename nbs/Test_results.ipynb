{
 "cells": [
  {
   "cell_type": "code",
   "execution_count": 1,
   "id": "28343b3f",
   "metadata": {},
   "outputs": [],
   "source": [
    "from torchvision import datasets, transforms\n",
    "from fastai.callback.all import *\n",
    "from fastai.vision.all import *\n",
    "import flwr as fl\n",
    "\n",
    "from copy import deepcopy\n",
    "from torch import optim\n",
    "\n",
    "from torch.nn.utils import clip_grad_norm_\n",
    "from opacus.utils import module_modification\n",
    "\n",
    "import warnings\n",
    "warnings.filterwarnings('ignore')\n",
    "\n",
    "from flwr.common import *"
   ]
  },
  {
   "cell_type": "code",
   "execution_count": 2,
   "id": "ebc29444",
   "metadata": {},
   "outputs": [],
   "source": [
    "import numpy as np\n",
    "import torch\n",
    "import torch.utils.data\n",
    "import torchvision\n",
    "from typing import Callable\n",
    "import pandas as pd\n",
    "import matplotlib.pyplot as plt\n",
    "import random\n",
    "from sklearn.metrics import roc_curve, auc\n",
    "from fastai.vision.all import ClassificationInterpretation\n",
    "\n",
    "def set_seed(dls, seed):\n",
    "    random.seed(seed)\n",
    "    np.random.seed(seed)\n",
    "    torch.manual_seed(seed)\n",
    "    torch.backends.cudnn.deterministic = True\n",
    "    torch.backends.cudnn.benchmark = False\n",
    "    if torch.cuda.is_available(): torch.cuda.manual_seed_all(seed)\n",
    "    dls.rng.seed(seed)\n",
    "\n",
    "def save_matrix(learn, path):\n",
    "    interp = ClassificationInterpretation.from_learner(learn)\n",
    "    interp.plot_confusion_matrix(figsize=(7,7))\n",
    "    plt.savefig(path)\n",
    "\n",
    "\n",
    "def save_roc(learn, path):\n",
    "    preds, y, loss = learn.get_preds(with_loss=True)\n",
    "    probs = np.exp(preds[:, 1])\n",
    "    fpr, tpr, _ = roc_curve(y, probs, pos_label=1)\n",
    "    roc_auc = auc(fpr, tpr)\n",
    "    print(f'ROC area is {roc_auc}')\n",
    "    plt.figure()\n",
    "    plt.plot(fpr, tpr, color='darkorange', label='ROC curve (area = %0.2f)' % roc_auc)\n",
    "    plt.plot([0, 1], [0, 1], color='navy', linestyle='--', label='Worst case')\n",
    "    plt.xlim([-0.01, 1.0])\n",
    "    plt.ylim([0.0, 1.01])\n",
    "    plt.xlabel('False Positive Rate')\n",
    "    plt.ylabel('True Positive Rate')\n",
    "    plt.title('Receiver operating characteristic')\n",
    "    plt.legend(loc=\"lower right\")\n",
    "    plt.savefig(path)\n",
    "\n",
    "\n",
    "class ImbalancedDatasetSampler(torch.utils.data.sampler.Sampler):\n",
    "    '''\n",
    "    Samples elements randomly from a given list of indices for imbalanced dataset\n",
    "    Parameters\n",
    "    ----------\n",
    "    indices: list\n",
    "        a list of indices\n",
    "    num_samples: int\n",
    "        number of samples to draw\n",
    "    callback_get_label: Callable\n",
    "        a callback-like function which takes two arguments - dataset and index\n",
    "    '''\n",
    "\n",
    "    def __init__(self, dataset, indices: list = None, num_samples: int = None, callback_get_label: Callable = None):\n",
    "        # if indices is not provided, all elements in the dataset will be considered\n",
    "        self.indices = list(range(len(dataset))) if indices is None else indices\n",
    "\n",
    "        # define custom callback\n",
    "        self.callback_get_label = callback_get_label\n",
    "\n",
    "        # if num_samples is not provided, draw len(indices) samples in each iteration\n",
    "        self.num_samples = len(self.indices) if num_samples is None else num_samples\n",
    "        print(self.num_samples)\n",
    "\n",
    "        # distribution of classes in the dataset\n",
    "        df = pd.DataFrame()\n",
    "        df[\"label\"] = self._get_labels(dataset)\n",
    "        df.index = self.indices\n",
    "        df = df.sort_index()\n",
    "\n",
    "        label_to_count = df[\"label\"].value_counts()\n",
    "\n",
    "        weights = 1.0 / label_to_count[df[\"label\"]]\n",
    "        print(weights)\n",
    "\n",
    "        self.weights = torch.DoubleTensor(weights.to_list())\n",
    "\n",
    "    def _get_labels(self, dataset):\n",
    "        if self.callback_get_label:\n",
    "            return self.callback_get_label(dataset)\n",
    "        elif isinstance(dataset, torchvision.datasets.MNIST):\n",
    "            return dataset.train_labels.tolist()\n",
    "        elif isinstance(dataset, torchvision.datasets.ImageFolder):\n",
    "            return [x[1] for x in dataset.imgs]\n",
    "        elif isinstance(dataset, torchvision.datasets.DatasetFolder):\n",
    "            return dataset.samples[:][1]\n",
    "        elif isinstance(dataset, torch.utils.data.Subset):\n",
    "            return dataset.dataset.imgs[:][1]\n",
    "        elif isinstance(dataset, torch.utils.data.Dataset):\n",
    "            return dataset.get_labels()\n",
    "        else:\n",
    "            raise NotImplementedError\n",
    "\n",
    "    def __iter__(self):\n",
    "        return (self.indices[i] for i in torch.multinomial(self.weights, self.num_samples, replacement=True))\n",
    "\n",
    "    def __len__(self):\n",
    "        return self.num_samples\n",
    "\n",
    "def get_imbalance_weights(ds):\n",
    "    labels = [x[1] for x in ds.train]\n",
    "    _,label_counts = np.unique(labels,return_counts=True)\n",
    "    weights = torch.DoubleTensor((1/label_counts)[labels])\n",
    "    return weights"
   ]
  },
  {
   "cell_type": "code",
   "execution_count": 3,
   "id": "ed805533",
   "metadata": {},
   "outputs": [],
   "source": [
    "# set device\n",
    "device = torch.device('cuda:0')\n",
    "torch.cuda.set_device(0)"
   ]
  },
  {
   "cell_type": "code",
   "execution_count": 4,
   "id": "885d3aa9",
   "metadata": {},
   "outputs": [],
   "source": [
    "# get model\n",
    "model = resnet18"
   ]
  },
  {
   "cell_type": "code",
   "execution_count": 5,
   "id": "45e0547e",
   "metadata": {},
   "outputs": [],
   "source": [
    "data_path = Path('data/test') "
   ]
  },
  {
   "cell_type": "code",
   "execution_count": 6,
   "id": "25f5d1fa",
   "metadata": {},
   "outputs": [],
   "source": [
    "dblock = DataBlock(blocks=(ImageBlock, CategoryBlock),\n",
    "    get_items = get_image_files,\n",
    "    get_y = parent_label,\n",
    "# Antoine has resized images in some cases               \n",
    "#    item_tfms = [Resize(32)],\n",
    "    splitter= None)"
   ]
  },
  {
   "cell_type": "code",
   "execution_count": 8,
   "id": "de546e09",
   "metadata": {},
   "outputs": [],
   "source": [
    "ds = dblock.datasets(data_path)"
   ]
  },
  {
   "cell_type": "code",
   "execution_count": 9,
   "id": "c97c1641",
   "metadata": {},
   "outputs": [],
   "source": [
    "dls = dblock.dataloaders(data_path, bs=64, device=device, dl_type=WeightedDL, wgts=get_imbalance_weights(ds), num_workers=0)"
   ]
  },
  {
   "cell_type": "code",
   "execution_count": 10,
   "id": "49d52eb1",
   "metadata": {},
   "outputs": [],
   "source": [
    "set_seed(dls, 42)"
   ]
  },
  {
   "cell_type": "code",
   "execution_count": 11,
   "id": "82b6dc97",
   "metadata": {},
   "outputs": [],
   "source": [
    "# Get model and change last layer\n",
    "learn = cnn_learner(dls, model, metrics=[accuracy, RocAucBinary()])\n",
    "learn.model = module_modification.convert_batchnorm_modules(learn.model)\n",
    "learn.model[1][8] = nn.Linear(512, 2, bias=False)"
   ]
  },
  {
   "cell_type": "code",
   "execution_count": 12,
   "id": "ef66392d",
   "metadata": {},
   "outputs": [],
   "source": [
    "learn.model.to(device);"
   ]
  },
  {
   "cell_type": "code",
   "execution_count": 13,
   "id": "ba4e4be0",
   "metadata": {},
   "outputs": [],
   "source": [
    "loaded_weights = np.load('weights/Split_03_03_03/cancer_database/federated03_03_03/round-3-weights.npz', allow_pickle=True)"
   ]
  },
  {
   "cell_type": "code",
   "execution_count": 14,
   "id": "06aa59c9",
   "metadata": {},
   "outputs": [],
   "source": [
    "def set_parameters(learn, parameters):\n",
    "    params_dict = zip(learn.model.state_dict().keys(), parameters)\n",
    "    state_dict = OrderedDict({k: torch.Tensor(v) for k, v in params_dict})\n",
    "    learn.model.load_state_dict(state_dict, strict=True)"
   ]
  },
  {
   "cell_type": "code",
   "execution_count": 15,
   "id": "e4933ce6",
   "metadata": {},
   "outputs": [],
   "source": [
    "set_parameters(learn, parameters_to_weights(loaded_weights['arr_0'][None][0]))"
   ]
  },
  {
   "cell_type": "code",
   "execution_count": 79,
   "id": "3fd06dbf",
   "metadata": {},
   "outputs": [],
   "source": [
    "test_fnames = get_image_files(data_path)"
   ]
  },
  {
   "cell_type": "code",
   "execution_count": 80,
   "id": "e2764112",
   "metadata": {},
   "outputs": [],
   "source": [
    "tst_dl = dls.test_dl(test_fnames, with_labels=True)"
   ]
  },
  {
   "cell_type": "code",
   "execution_count": 81,
   "id": "99e7c3fe",
   "metadata": {},
   "outputs": [
    {
     "data": {
      "text/html": [],
      "text/plain": [
       "<IPython.core.display.HTML object>"
      ]
     },
     "metadata": {},
     "output_type": "display_data"
    },
    {
     "data": {
      "text/plain": [
       "(#3) [0.47540485858917236,0.8208417296409607,0.8882455247120778]"
      ]
     },
     "execution_count": 81,
     "metadata": {},
     "output_type": "execute_result"
    }
   ],
   "source": [
    "learn.validate(dl=tst_dl)"
   ]
  }
 ],
 "metadata": {
  "kernelspec": {
   "display_name": "Python 3",
   "language": "python",
   "name": "python3"
  },
  "language_info": {
   "codemirror_mode": {
    "name": "ipython",
    "version": 3
   },
   "file_extension": ".py",
   "mimetype": "text/x-python",
   "name": "python",
   "nbconvert_exporter": "python",
   "pygments_lexer": "ipython3",
   "version": "3.7.10"
  }
 },
 "nbformat": 4,
 "nbformat_minor": 5
}
